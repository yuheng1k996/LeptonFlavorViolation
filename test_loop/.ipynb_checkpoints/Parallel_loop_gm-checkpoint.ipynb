{
 "cells": [
  {
   "cell_type": "markdown",
   "metadata": {},
   "source": [
    "# Scanning g vs m _ loop"
   ]
  },
  {
   "cell_type": "code",
   "execution_count": 128,
   "metadata": {},
   "outputs": [],
   "source": [
    "import os \n",
    "import numpy as np"
   ]
  },
  {
   "cell_type": "code",
   "execution_count": 144,
   "metadata": {},
   "outputs": [],
   "source": [
    "# Scanning g vs m\n",
    "scen = 1\n",
    "\n",
    "basesX_0=(0.001, 1.8)\n",
    "basesX_1=(0.001, 1.8)\n",
    "basesX_2=(0.2, 1.8)\n",
    "basesX_3=(0.001, 1.8)\n",
    "basesX_4=(0.2, 1.8)\n",
    "\n",
    "total_list = [basesX_0,basesX_1,basesX_2,basesX_3,basesX_4]\n",
    "\n",
    "basesY=(1, 1.5, 2, 3, 4, 6, 8)\n",
    "expY=range(-9,1)\n",
    "\n",
    "np.savez_compressed(\"./storage/g_m_rangeX\",basesX_0=basesX_0, basesX_1=basesX_1, basesX_2=basesX_2, basesX_3=basesX_3, basesX_4=basesX_4)\n",
    "\n",
    "nMC = 3000000"
   ]
  },
  {
   "cell_type": "code",
   "execution_count": 145,
   "metadata": {},
   "outputs": [
    {
     "name": "stdout",
     "output_type": "stream",
     "text": [
      "['basesX_0', 'basesX_1', 'basesX_2', 'basesX_3', 'basesX_4']\n",
      "<class 'list'>\n",
      "0.001\n",
      "[1.0e-03 1.8e+00]\n",
      "0.001\n",
      "<class 'numpy.ndarray'>\n",
      "<class 'numpy.float64'>\n",
      "basesX_1\n",
      "<class 'str'>\n"
     ]
    },
    {
     "data": {
      "text/plain": [
       "(2,)"
      ]
     },
     "execution_count": 145,
     "metadata": {},
     "output_type": "execute_result"
    }
   ],
   "source": [
    "data = np.load(\"./storage/g_m_rangeX.npz\")\n",
    "\n",
    "print(data.files)\n",
    "print(type(data.files))\n",
    "\n",
    "print(total_list[0][0]) #not a readible form\n",
    "print(data[\"basesX_\"+str(scen)])\n",
    "print(data[\"basesX_\"+str(scen)][0])\n",
    "print(type(data[\"basesX_\"+str(scen)]))\n",
    "print(type(data[\"basesX_\"+str(scen)][0]))\n",
    "\n",
    "print(\"basesX_\"+str(scen)) #not a variable, but a string\n",
    "print(type(\"basesX_\"+str(scen)))\n",
    "\n",
    "data[\"basesX_\"+str(scen)].shape"
   ]
  },
  {
   "cell_type": "code",
   "execution_count": 146,
   "metadata": {},
   "outputs": [
    {
     "data": {
      "text/plain": [
       "(40,\n",
       " array([1.00000000e-03, 4.71282051e-02, 9.32564103e-02, 1.39384615e-01,\n",
       "        1.85512821e-01, 2.31641026e-01, 2.77769231e-01, 3.23897436e-01,\n",
       "        3.70025641e-01, 4.16153846e-01, 4.62282051e-01, 5.08410256e-01,\n",
       "        5.54538462e-01, 6.00666667e-01, 6.46794872e-01, 6.92923077e-01,\n",
       "        7.39051282e-01, 7.85179487e-01, 8.31307692e-01, 8.77435897e-01,\n",
       "        9.23564103e-01, 9.69692308e-01, 1.01582051e+00, 1.06194872e+00,\n",
       "        1.10807692e+00, 1.15420513e+00, 1.20033333e+00, 1.24646154e+00,\n",
       "        1.29258974e+00, 1.33871795e+00, 1.38484615e+00, 1.43097436e+00,\n",
       "        1.47710256e+00, 1.52323077e+00, 1.56935897e+00, 1.61548718e+00,\n",
       "        1.66161538e+00, 1.70774359e+00, 1.75387179e+00, 1.80000000e+00]))"
      ]
     },
     "execution_count": 146,
     "metadata": {},
     "output_type": "execute_result"
    }
   ],
   "source": [
    "m_Run = np.linspace(data[\"basesX_\"+str(scen)][0],data[\"basesX_\"+str(scen)][1],40)\n",
    "len(m_Run), m_Run"
   ]
  },
  {
   "cell_type": "code",
   "execution_count": 147,
   "metadata": {},
   "outputs": [],
   "source": [
    "#More points is needed near some region: 2*e_mass, mu_mass, 2*mu_mass, tau_mass\n",
    "\n",
    "m_Add = []\n",
    "\n",
    "#scenario-0\n",
    "#m_Add.append([0.02, 0.03, 0.04, 0.06, 0.07, 0.08, 0.11, 0.12, 0.13, 0.15, 0.16, 0.17, 0.19, 0.20, 0.21, 0.22, 0.24, 0.25])\n",
    "#scenario-1\n",
    "#\n",
    "#scenario-2\n",
    "#\n",
    "#scenario-3\n",
    "#\n",
    "#scenario-4\n",
    "#"
   ]
  },
  {
   "cell_type": "code",
   "execution_count": 148,
   "metadata": {},
   "outputs": [
    {
     "data": {
      "text/plain": [
       "(40, 70)"
      ]
     },
     "execution_count": 148,
     "metadata": {},
     "output_type": "execute_result"
    }
   ],
   "source": [
    "m_Run = np.append(m_Run, m_Add)\n",
    "g_Run = [ba*10**exp for ba in basesY for exp in expY]\n",
    "len(m_Run), len(g_Run)"
   ]
  },
  {
   "cell_type": "code",
   "execution_count": 149,
   "metadata": {},
   "outputs": [],
   "source": [
    "for g in g_Run:\n",
    "    for m in m_Run:\n",
    "        os.system(\"nohup ./main \"+str(scen)+\" \"+str(m)+\" \"+str(g)+\" \"+str(g)+\" \"+str(nMC)+\" > ./storage/result_g_m_\"+str(scen)+\"/out_\"+str(m)+\"_\"+str(g)+\".out 2>&1 &\")"
   ]
  },
  {
   "cell_type": "code",
   "execution_count": null,
   "metadata": {},
   "outputs": [],
   "source": []
  },
  {
   "cell_type": "code",
   "execution_count": null,
   "metadata": {},
   "outputs": [],
   "source": []
  },
  {
   "cell_type": "code",
   "execution_count": null,
   "metadata": {},
   "outputs": [],
   "source": []
  },
  {
   "cell_type": "code",
   "execution_count": 109,
   "metadata": {},
   "outputs": [],
   "source": [
    "#other points\n",
    "e_Y = range(1,2)\n",
    "g_R = [ba*10**exp for ba in basesY for exp in e_Y]\n",
    "for g in g_R:\n",
    "    for m in m_Run:\n",
    "        os.system(\"nohup ./main \"+str(scen)+\" \"+str(m)+\" \"+str(g)+\" \"+str(g)+\" \"+str(nMC)+\" > ./storage/result_g_m_\"+str(scen)+\"/out_\"+str(m)+\"_\"+str(g)+\".out 2>&1 &\")"
   ]
  },
  {
   "cell_type": "code",
   "execution_count": null,
   "metadata": {},
   "outputs": [],
   "source": []
  },
  {
   "cell_type": "code",
   "execution_count": null,
   "metadata": {},
   "outputs": [],
   "source": []
  },
  {
   "cell_type": "code",
   "execution_count": null,
   "metadata": {},
   "outputs": [],
   "source": []
  }
 ],
 "metadata": {
  "kernelspec": {
   "display_name": "Python 3",
   "language": "python",
   "name": "python3"
  },
  "language_info": {
   "codemirror_mode": {
    "name": "ipython",
    "version": 3
   },
   "file_extension": ".py",
   "mimetype": "text/x-python",
   "name": "python",
   "nbconvert_exporter": "python",
   "pygments_lexer": "ipython3",
   "version": "3.8.5"
  }
 },
 "nbformat": 4,
 "nbformat_minor": 4
}
