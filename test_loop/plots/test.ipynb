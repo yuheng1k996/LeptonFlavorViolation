{
 "cells": [
  {
   "cell_type": "code",
   "execution_count": 54,
   "metadata": {},
   "outputs": [],
   "source": [
    "import numpy as np"
   ]
  },
  {
   "cell_type": "code",
   "execution_count": 55,
   "metadata": {},
   "outputs": [
    {
     "data": {
      "text/plain": [
       "array([[   2,    3,    1,    4],\n",
       "       [  10,    7,    9,    8],\n",
       "       [   1,   10, 1000,  100]])"
      ]
     },
     "execution_count": 55,
     "metadata": {},
     "output_type": "execute_result"
    }
   ],
   "source": [
    "a = np.array([[2,3,1,4], [10,7,9,8], [1,10,1000,100]])\n",
    "#a.sort(axis=1)\n",
    "a"
   ]
  },
  {
   "cell_type": "code",
   "execution_count": 56,
   "metadata": {},
   "outputs": [
    {
     "data": {
      "text/plain": [
       "([1, 9, 1000], [4, 8, 100])"
      ]
     },
     "execution_count": 56,
     "metadata": {},
     "output_type": "execute_result"
    }
   ],
   "source": [
    "b1,b2 = [],[]\n",
    "for i in range(len(a)):\n",
    "    b1.append(a[i][2])\n",
    "    b2.append(a[i][3])\n",
    "\n",
    "b1,b2"
   ]
  },
  {
   "cell_type": "code",
   "execution_count": 70,
   "metadata": {},
   "outputs": [
    {
     "name": "stdout",
     "output_type": "stream",
     "text": [
      "3 3\n",
      "[1, 2, 3] ['c', 'a', 'b']\n",
      "[(1, 'c'), (2, 'a'), (3, 'b')]\n"
     ]
    }
   ],
   "source": [
    "list1 = [2, 3, 1]\n",
    "list2 = [\"a\", \"b\", \"c\"]\n",
    "list3 = [\"p\",\"q\",\"r\"]\n",
    "\n",
    "zipped_lists = zip(list1, list2)\n",
    "\n",
    "sorted_zipped_lists = sorted(zipped_lists)\n",
    "\n",
    "sorted_list2 = [element for _, element in sorted_zipped_lists]\n",
    "\n",
    "list1.sort()\n",
    "print(len(list1),len(sorted_list2))\n",
    "print(list1, sorted_list2)\n",
    "print(sorted_zipped_lists)"
   ]
  },
  {
   "cell_type": "code",
   "execution_count": null,
   "metadata": {},
   "outputs": [],
   "source": []
  }
 ],
 "metadata": {
  "kernelspec": {
   "display_name": "Python 3",
   "language": "python",
   "name": "python3"
  },
  "language_info": {
   "codemirror_mode": {
    "name": "ipython",
    "version": 3
   },
   "file_extension": ".py",
   "mimetype": "text/x-python",
   "name": "python",
   "nbconvert_exporter": "python",
   "pygments_lexer": "ipython3",
   "version": "3.8.5"
  }
 },
 "nbformat": 4,
 "nbformat_minor": 4
}
